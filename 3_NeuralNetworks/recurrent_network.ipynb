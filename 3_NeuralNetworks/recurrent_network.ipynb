{
 "cells": [
  {
   "cell_type": "markdown",
   "metadata": {
    "collapsed": true
   },
   "source": [
    "'''\n",
    "A Reccurent Neural Network (LSTM) implementation example using TensorFlow library.\n",
    "This example is using the MNIST database of handwritten digits (http://yann.lecun.com/exdb/mnist/)\n",
    "Long Short Term Memory paper: http://deeplearning.cs.cmu.edu/pdfs/Hochreiter97_lstm.pdf\n",
    "\n",
    "Author: Aymeric Damien\n",
    "Project: https://github.com/aymericdamien/TensorFlow-Examples/\n",
    "'''"
   ]
  },
  {
   "cell_type": "code",
   "execution_count": 1,
   "metadata": {},
   "outputs": [
    {
     "name": "stdout",
     "output_type": "stream",
     "text": [
      "Extracting MNIST_data/train-images-idx3-ubyte.gz\n",
      "Extracting MNIST_data/train-labels-idx1-ubyte.gz\n",
      "Extracting MNIST_data/t10k-images-idx3-ubyte.gz\n",
      "Extracting MNIST_data/t10k-labels-idx1-ubyte.gz\n"
     ]
    }
   ],
   "source": [
    "import tensorflow as tf\n",
    "from tensorflow.contrib import rnn\n",
    "import numpy as np\n",
    "\n",
    "# Import MINST data\n",
    "from tensorflow.examples.tutorials.mnist import input_data\n",
    "mnist = input_data.read_data_sets(\"MNIST_data/\", one_hot=True)\n",
    "\n",
    "# for plotting graphs:\n",
    "import matplotlib.pyplot as plt\n",
    "%matplotlib inline\n",
    "\n",
    "# Import the os module:\n",
    "import os"
   ]
  },
  {
   "cell_type": "markdown",
   "metadata": {
    "collapsed": true
   },
   "source": [
    "'''\n",
    "To classify images using a reccurent neural network, we consider every image\n",
    "row as a sequence of pixels. Because MNIST image shape is 28*28px, we will then\n",
    "handle 28 sequences of 28 steps for every sample.\n",
    "'''"
   ]
  },
  {
   "cell_type": "code",
   "execution_count": 2,
   "metadata": {},
   "outputs": [],
   "source": [
    "# Important paths:\n",
    "base_models_path = \"Models\"\n",
    "log_dir = os.path.join(base_models_path, \"RNN\", \"logdir\")\n",
    "\n",
    "model_name = \"Model1\""
   ]
  },
  {
   "cell_type": "code",
   "execution_count": 3,
   "metadata": {},
   "outputs": [],
   "source": [
    "# Parameters\n",
    "learning_rate = 0.001\n",
    "training_iters = 100000\n",
    "batch_size = 128\n",
    "display_step = 10\n",
    "\n",
    "# Network Parameters\n",
    "n_input = 28 # MNIST data input (img shape: 28*28)\n",
    "n_steps = 28 # timesteps\n",
    "n_hidden = 128 # hidden layer num of features\n",
    "n_classes = 10 # MNIST total classes (0-9 digits)"
   ]
  },
  {
   "cell_type": "code",
   "execution_count": 4,
   "metadata": {},
   "outputs": [
    {
     "data": {
      "image/png": "[encoded data removed]",
      "text/plain": [
       "<matplotlib.figure.Figure at 0x7ff5cec0fad0>"
      ]
     },
     "metadata": {},
     "output_type": "display_data"
    },
    {
     "data": {
      "image/png": "[encoded data removed]",
      "text/plain": [
       "<matplotlib.figure.Figure at 0x7ff5ceec4150>"
      ]
     },
     "metadata": {},
     "output_type": "display_data"
    },
    {
     "data": {
      "image/png": "[encoded data removed]",
      "text/plain": [
       "<matplotlib.figure.Figure at 0x7ff5cebe9cd0>"
      ]
     },
     "metadata": {},
     "output_type": "display_data"
    }
   ],
   "source": [
    "# view a few random images from the dataset\n",
    "images = mnist.train.images.reshape(-1, n_input, n_steps)\n",
    "labels = mnist.train.labels\n",
    "\n",
    "# we display 3 random images from this sample\n",
    "for _ in range(3):\n",
    "    random_index = np.random.randint(images.shape[0])\n",
    "    random_image = images[random_index]; label = np.where(labels[random_index] == 1)[0][0]\n",
    "    \n",
    "    # plot the image:\n",
    "    plt.figure().suptitle(\"Label: \" + str(label))\n",
    "    plt.imshow(random_image)"
   ]
  },
  {
   "cell_type": "markdown",
   "metadata": {},
   "source": [
    "### Run the above cell a few times to see different results."
   ]
  },
  {
   "cell_type": "code",
   "execution_count": 7,
   "metadata": {},
   "outputs": [],
   "source": [
    "RNN_GRAPH = tf.Graph()\n",
    "\n",
    "with RNN_GRAPH.as_default():\n",
    "    \n",
    "    # tf Graph input\n",
    "    x = tf.placeholder(\"float\", [None, n_steps, n_input], name=\"Input_data\")\n",
    "    y = tf.placeholder(\"float\", [None, n_classes], name=\"Input_labels\")\n",
    "\n",
    "    # Define weights\n",
    "    weights = {\n",
    "        'out': tf.Variable(tf.random_normal([n_hidden, n_classes]))\n",
    "    }\n",
    "    biases = {\n",
    "        'out': tf.Variable(tf.random_normal([n_classes]))\n",
    "    }\n",
    "    \n",
    "    def RNN(x, weights, biases):\n",
    "\n",
    "        # Prepare data shape to match `rnn` function requirements\n",
    "        # Current data input shape: (batch_size, n_steps, n_input)\n",
    "        # Required shape: 'n_steps' tensors list of shape (batch_size, n_input)\n",
    "\n",
    "        # Permuting batch_size and n_steps\n",
    "        x = tf.transpose(x, [1, 0, 2])\n",
    "        # Reshaping to (n_steps*batch_size, n_input)\n",
    "        x = tf.reshape(x, [-1, n_input])\n",
    "        # Split to get a list of 'n_steps' tensors of shape (batch_size, n_input)\n",
    "        x = tf.split(x, n_steps, 0)\n",
    "\n",
    "        # Define a lstm cell with tensorflow\n",
    "        lstm_cell = rnn.BasicLSTMCell(n_hidden, forget_bias=1.0)\n",
    "\n",
    "        # Get lstm cell output\n",
    "        outputs, states = rnn.static_rnn(lstm_cell, x, dtype=tf.float32)\n",
    "\n",
    "        # Linear activation, using rnn inner loop last output\n",
    "        return tf.matmul(outputs[-1], weights['out']) + biases['out']\n",
    "\n",
    "    pred = RNN(x, weights, biases)\n",
    "\n",
    "    # Define loss and optimizer\n",
    "    cost = tf.reduce_mean(tf.nn.softmax_cross_entropy_with_logits(logits=pred, labels=y))\n",
    "\n",
    "    # summary for visualizing the cost \n",
    "    cost_summary = tf.summary.scalar(\"Loss\", cost)\n",
    "\n",
    "    optimizer = tf.train.AdamOptimizer(learning_rate=learning_rate).minimize(cost)\n",
    "\n",
    "    # Evaluate model\n",
    "    correct_pred = tf.equal(tf.argmax(pred,1), tf.argmax(y,1))\n",
    "    accuracy = tf.reduce_mean(tf.cast(correct_pred, tf.float32))\n",
    "\n",
    "    # summary for accuracy\n",
    "    accuracy_summary = tf.summary.scalar(\"Accuracy\", accuracy)\n",
    "\n",
    "    # merged summary:\n",
    "    all_summaries = tf.summary.merge_all()"
   ]
  },
  {
   "cell_type": "code",
   "execution_count": 10,
   "metadata": {},
   "outputs": [
    {
     "name": "stdout",
     "output_type": "stream",
     "text": [
      "Iter 1280, Minibatch Loss= 1.869755, Training Accuracy= 0.38281\n",
      "Iter 2560, Minibatch Loss= 1.398164, Training Accuracy= 0.52344\n",
      "Iter 3840, Minibatch Loss= 1.290797, Training Accuracy= 0.59375\n",
      "Iter 5120, Minibatch Loss= 0.938388, Training Accuracy= 0.65625\n",
      "Iter 6400, Minibatch Loss= 1.046592, Training Accuracy= 0.71094\n",
      "Iter 7680, Minibatch Loss= 0.808783, Training Accuracy= 0.75000\n",
      "Iter 8960, Minibatch Loss= 0.654342, Training Accuracy= 0.78906\n",
      "Iter 10240, Minibatch Loss= 0.519232, Training Accuracy= 0.82031\n",
      "Iter 11520, Minibatch Loss= 0.412831, Training Accuracy= 0.85156\n",
      "Iter 12800, Minibatch Loss= 0.354895, Training Accuracy= 0.89062\n",
      "Iter 14080, Minibatch Loss= 0.278876, Training Accuracy= 0.89844\n",
      "Iter 15360, Minibatch Loss= 0.473290, Training Accuracy= 0.83594\n",
      "Iter 16640, Minibatch Loss= 0.364607, Training Accuracy= 0.87500\n",
      "Iter 17920, Minibatch Loss= 0.452570, Training Accuracy= 0.88281\n",
      "Iter 19200, Minibatch Loss= 0.187583, Training Accuracy= 0.96094\n",
      "Iter 20480, Minibatch Loss= 0.231178, Training Accuracy= 0.93750\n",
      "Iter 21760, Minibatch Loss= 0.293958, Training Accuracy= 0.92188\n",
      "Iter 23040, Minibatch Loss= 0.201631, Training Accuracy= 0.91406\n",
      "Iter 24320, Minibatch Loss= 0.389085, Training Accuracy= 0.90625\n",
      "Iter 25600, Minibatch Loss= 0.196597, Training Accuracy= 0.92188\n",
      "Iter 26880, Minibatch Loss= 0.313393, Training Accuracy= 0.92188\n",
      "Iter 28160, Minibatch Loss= 0.278469, Training Accuracy= 0.92969\n",
      "Iter 29440, Minibatch Loss= 0.156926, Training Accuracy= 0.95312\n",
      "Iter 30720, Minibatch Loss= 0.153846, Training Accuracy= 0.97656\n",
      "Iter 32000, Minibatch Loss= 0.240066, Training Accuracy= 0.92188\n",
      "Iter 33280, Minibatch Loss= 0.083468, Training Accuracy= 0.98438\n",
      "Iter 34560, Minibatch Loss= 0.447905, Training Accuracy= 0.90625\n",
      "Iter 35840, Minibatch Loss= 0.173490, Training Accuracy= 0.96094\n",
      "Iter 37120, Minibatch Loss= 0.193683, Training Accuracy= 0.95312\n",
      "Iter 38400, Minibatch Loss= 0.196895, Training Accuracy= 0.96094\n",
      "Iter 39680, Minibatch Loss= 0.128602, Training Accuracy= 0.96875\n",
      "Iter 40960, Minibatch Loss= 0.059578, Training Accuracy= 0.98438\n",
      "Iter 42240, Minibatch Loss= 0.146358, Training Accuracy= 0.94531\n",
      "Iter 43520, Minibatch Loss= 0.208118, Training Accuracy= 0.92188\n",
      "Iter 44800, Minibatch Loss= 0.186589, Training Accuracy= 0.94531\n",
      "Iter 46080, Minibatch Loss= 0.142762, Training Accuracy= 0.95312\n",
      "Iter 47360, Minibatch Loss= 0.162604, Training Accuracy= 0.96875\n",
      "Iter 48640, Minibatch Loss= 0.104353, Training Accuracy= 0.96094\n",
      "Iter 49920, Minibatch Loss= 0.172098, Training Accuracy= 0.94531\n",
      "Iter 51200, Minibatch Loss= 0.115274, Training Accuracy= 0.96094\n",
      "Iter 52480, Minibatch Loss= 0.116284, Training Accuracy= 0.95312\n",
      "Iter 53760, Minibatch Loss= 0.107263, Training Accuracy= 0.96875\n",
      "Iter 55040, Minibatch Loss= 0.109971, Training Accuracy= 0.95312\n",
      "Iter 56320, Minibatch Loss= 0.126310, Training Accuracy= 0.94531\n",
      "Iter 57600, Minibatch Loss= 0.156627, Training Accuracy= 0.93750\n",
      "Iter 58880, Minibatch Loss= 0.133786, Training Accuracy= 0.95312\n",
      "Iter 60160, Minibatch Loss= 0.136292, Training Accuracy= 0.93750\n",
      "Iter 61440, Minibatch Loss= 0.114681, Training Accuracy= 0.95312\n",
      "Iter 62720, Minibatch Loss= 0.195986, Training Accuracy= 0.96094\n",
      "Iter 64000, Minibatch Loss= 0.095622, Training Accuracy= 0.96094\n",
      "Iter 65280, Minibatch Loss= 0.254895, Training Accuracy= 0.92188\n",
      "Iter 66560, Minibatch Loss= 0.191213, Training Accuracy= 0.93750\n",
      "Iter 67840, Minibatch Loss= 0.079783, Training Accuracy= 0.97656\n",
      "Iter 69120, Minibatch Loss= 0.088695, Training Accuracy= 0.96875\n",
      "Iter 70400, Minibatch Loss= 0.151131, Training Accuracy= 0.92188\n",
      "Iter 71680, Minibatch Loss= 0.107769, Training Accuracy= 0.96875\n",
      "Iter 72960, Minibatch Loss= 0.073408, Training Accuracy= 0.96094\n",
      "Iter 74240, Minibatch Loss= 0.073091, Training Accuracy= 0.99219\n",
      "Iter 75520, Minibatch Loss= 0.175502, Training Accuracy= 0.96094\n",
      "Iter 76800, Minibatch Loss= 0.079902, Training Accuracy= 0.96875\n",
      "Iter 78080, Minibatch Loss= 0.090703, Training Accuracy= 0.96875\n",
      "Iter 79360, Minibatch Loss= 0.053114, Training Accuracy= 0.97656\n",
      "Iter 80640, Minibatch Loss= 0.072113, Training Accuracy= 0.99219\n",
      "Iter 81920, Minibatch Loss= 0.075527, Training Accuracy= 0.96875\n",
      "Iter 83200, Minibatch Loss= 0.094112, Training Accuracy= 0.97656\n",
      "Iter 84480, Minibatch Loss= 0.053958, Training Accuracy= 0.97656\n",
      "Iter 85760, Minibatch Loss= 0.117017, Training Accuracy= 0.96094\n",
      "Iter 87040, Minibatch Loss= 0.061720, Training Accuracy= 0.98438\n",
      "Iter 88320, Minibatch Loss= 0.180723, Training Accuracy= 0.92969\n",
      "Iter 89600, Minibatch Loss= 0.122451, Training Accuracy= 0.95312\n",
      "Iter 90880, Minibatch Loss= 0.093231, Training Accuracy= 0.97656\n",
      "Iter 92160, Minibatch Loss= 0.092867, Training Accuracy= 0.97656\n",
      "Iter 93440, Minibatch Loss= 0.092796, Training Accuracy= 0.96875\n",
      "Iter 94720, Minibatch Loss= 0.094593, Training Accuracy= 0.97656\n",
      "Iter 96000, Minibatch Loss= 0.035997, Training Accuracy= 0.99219\n",
      "Iter 97280, Minibatch Loss= 0.070153, Training Accuracy= 0.99219\n",
      "Iter 98560, Minibatch Loss= 0.091219, Training Accuracy= 0.96875\n",
      "Iter 99840, Minibatch Loss= 0.113301, Training Accuracy= 0.96094\n",
      "Optimization Finished!\n",
      "Testing Accuracy: 0.984375\n"
     ]
    }
   ],
   "source": [
    "# Launch the graph\n",
    "with tf.Session(graph=RNN_GRAPH) as sess:\n",
    "    # create the writer object for this session\n",
    "    log_path = os.path.join(log_dir, model_name)\n",
    "    tensorboard_writer = tf.summary.FileWriter(log_path, graph=sess.graph)\n",
    "    \n",
    "    sess.run(tf.global_variables_initializer())\n",
    "    step = 1\n",
    "    # Keep training until reach max iterations\n",
    "    while step * batch_size < training_iters:\n",
    "        batch_x, batch_y = mnist.train.next_batch(batch_size)\n",
    "        # Reshape data to get 28 seq of 28 elements\n",
    "        batch_x = batch_x.reshape((batch_size, n_steps, n_input))\n",
    "        # Run optimization op (backprop)\n",
    "        sess.run(optimizer, feed_dict={x: batch_x, y: batch_y})\n",
    "        if step % display_step == 0:\n",
    "            # Calculate batch accuracy\n",
    "            acc, loss, summ = sess.run([accuracy, cost, all_summaries], feed_dict={x: batch_x, y: batch_y})\n",
    "            \n",
    "            # record the summaries:\n",
    "            tensorboard_writer.add_summary(summ, step)\n",
    "            \n",
    "            print \"Iter \" + str(step*batch_size) + \", Minibatch Loss= \" + \\\n",
    "                  \"{:.6f}\".format(loss) + \", Training Accuracy= \" + \\\n",
    "                  \"{:.5f}\".format(acc)\n",
    "        step += 1\n",
    "    print \"Optimization Finished!\"\n",
    "\n",
    "    # Calculate accuracy for 128 mnist test images\n",
    "    test_len = 128\n",
    "    test_data = mnist.test.images[:test_len].reshape((-1, n_steps, n_input))\n",
    "    test_label = mnist.test.labels[:test_len]\n",
    "    print \"Testing Accuracy:\", \\\n",
    "        sess.run(accuracy, feed_dict={x: test_data, y: test_label})"
   ]
  },
  {
   "cell_type": "markdown",
   "metadata": {},
   "source": [
    "# To visualize the Above RNN in tensorboard, run the following command:\n",
    "-------------------------------------------------------------------------------------------------------------------\n",
    "\n",
    "## $: tensorboard --logdir=[path to the logdir]"
   ]
  }
 ],
 "metadata": {
  "kernelspec": {
   "display_name": "Python 2",
   "language": "python",
   "name": "python2"
  },
  "language_info": {
   "codemirror_mode": {
    "name": "ipython",
    "version": 2
   },
   "file_extension": ".py",
   "mimetype": "text/x-python",
   "name": "python",
   "nbconvert_exporter": "python",
   "pygments_lexer": "ipython2",
   "version": "2.7.13"
  }
 },
 "nbformat": 4,
 "nbformat_minor": 1
}
